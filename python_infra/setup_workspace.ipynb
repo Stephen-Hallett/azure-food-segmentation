{
 "cells": [
  {
   "cell_type": "code",
   "execution_count": 1,
   "metadata": {},
   "outputs": [],
   "source": [
    "import os\n",
    "if not os.path.exists(\"dataset\"):\n",
    "    os.makedirs(\"dataset\")"
   ]
  },
  {
   "cell_type": "code",
   "execution_count": 4,
   "metadata": {},
   "outputs": [
    {
     "ename": "TypeError",
     "evalue": "__init__() missing 1 required positional argument: 'mode'",
     "output_type": "error",
     "traceback": [
      "\u001b[1;31m---------------------------------------------------------------------------\u001b[0m",
      "\u001b[1;31mTypeError\u001b[0m                                 Traceback (most recent call last)",
      "Cell \u001b[1;32mIn[4], line 4\u001b[0m\n\u001b[0;32m      1\u001b[0m \u001b[38;5;28;01mfrom\u001b[39;00m \u001b[38;5;21;01mpulumi\u001b[39;00m\u001b[38;5;21;01m.\u001b[39;00m\u001b[38;5;21;01mautomation\u001b[39;00m \u001b[38;5;28;01mimport\u001b[39;00m Stack, LocalWorkspace\n\u001b[0;32m      3\u001b[0m workspace \u001b[38;5;241m=\u001b[39m LocalWorkspace()\n\u001b[1;32m----> 4\u001b[0m stack \u001b[38;5;241m=\u001b[39m \u001b[43mStack\u001b[49m\u001b[43m(\u001b[49m\u001b[43mname\u001b[49m\u001b[38;5;241;43m=\u001b[39;49m\u001b[38;5;124;43m\"\u001b[39;49m\u001b[38;5;124;43mazure_food_segmentation\u001b[39;49m\u001b[38;5;124;43m\"\u001b[39;49m\u001b[43m,\u001b[49m\u001b[43m \u001b[49m\u001b[43mworkspace\u001b[49m\u001b[38;5;241;43m=\u001b[39;49m\u001b[43mworkspace\u001b[49m\u001b[43m)\u001b[49m\n\u001b[0;32m      6\u001b[0m \u001b[38;5;66;03m# Retrieve exported values\u001b[39;00m\n\u001b[0;32m      7\u001b[0m resource_group_name \u001b[38;5;241m=\u001b[39m stack\u001b[38;5;241m.\u001b[39mget_output(\u001b[38;5;124m'\u001b[39m\u001b[38;5;124mresource_group\u001b[39m\u001b[38;5;124m'\u001b[39m)\n",
      "\u001b[1;31mTypeError\u001b[0m: __init__() missing 1 required positional argument: 'mode'"
     ]
    }
   ],
   "source": [
    "from pulumi.automation import Stack, LocalWorkspace\n",
    "\n",
    "workspace = LocalWorkspace()\n",
    "stack = Stack(name=\"azure_food_segmentation\", workspace=workspace)\n",
    "\n",
    "# Retrieve exported values\n",
    "resource_group_name = stack.get_output('resource_group')\n",
    "storage_name = stack.get_output('storage')\n",
    "app_insights_name = stack.get_output('app_insights')\n",
    "keyvault_name = stack.get_output('keyvault')\n",
    "ml_workspace_name = stack.get_output('ml_workspace')\n",
    "\n",
    "print(f\"Resource Group Name: {resource_group_name}\")\n",
    "print(f\"Storage Account Name: {storage_name}\")\n",
    "print(f\"App Insights Name: {app_insights_name}\")\n",
    "print(f\"Key Vault Name: {keyvault_name}\")\n",
    "print(f\"ML Workspace Name: {ml_workspace_name}\")"
   ]
  }
 ],
 "metadata": {
  "kernelspec": {
   "display_name": "venv",
   "language": "python",
   "name": "python3"
  },
  "language_info": {
   "codemirror_mode": {
    "name": "ipython",
    "version": 3
   },
   "file_extension": ".py",
   "mimetype": "text/x-python",
   "name": "python",
   "nbconvert_exporter": "python",
   "pygments_lexer": "ipython3",
   "version": "3.9.9"
  }
 },
 "nbformat": 4,
 "nbformat_minor": 2
}
